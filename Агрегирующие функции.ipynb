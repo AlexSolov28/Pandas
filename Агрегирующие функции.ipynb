{
 "cells": [
  {
   "cell_type": "code",
   "execution_count": 1,
   "id": "926c4af0",
   "metadata": {},
   "outputs": [],
   "source": [
    "import pandas as pd"
   ]
  },
  {
   "cell_type": "code",
   "execution_count": 2,
   "id": "3b6fc2bc",
   "metadata": {},
   "outputs": [],
   "source": [
    "df_p = pd.read_csv('C:/Users/Пользователь/Desktop/Python/Pandas_ данные для курса/Products.csv', sep = ';')\n",
    "df_c = pd.read_csv('C:/Users/Пользователь/Desktop/Python/Pandas_ данные для курса/Customers.csv', sep = ';')\n",
    "df_o = pd.read_csv('C:/Users/Пользователь/Desktop/Python/Pandas_ данные для курса/Orders.csv', sep = ';')\n",
    "df_od = pd.read_csv('C:/Users/Пользователь/Desktop/Python/Pandas_ данные для курса/Order_details.csv', sep = ';')\n",
    "df_e = pd.read_excel('C:/Users/Пользователь/Desktop/Python/Pandas_ данные для курса/Employees.xlsx')"
   ]
  },
  {
   "cell_type": "markdown",
   "id": "8f3c3606",
   "metadata": {},
   "source": [
    "#### Популярные агрегирующие функции\n",
    "\n",
    "* count\n",
    "* min\n",
    "* max\n",
    "* mean\n",
    "* median\n",
    "* sum"
   ]
  },
  {
   "cell_type": "code",
   "execution_count": 3,
   "id": "2521949a",
   "metadata": {},
   "outputs": [
    {
     "data": {
      "text/html": [
       "<div>\n",
       "<style scoped>\n",
       "    .dataframe tbody tr th:only-of-type {\n",
       "        vertical-align: middle;\n",
       "    }\n",
       "\n",
       "    .dataframe tbody tr th {\n",
       "        vertical-align: top;\n",
       "    }\n",
       "\n",
       "    .dataframe thead th {\n",
       "        text-align: right;\n",
       "    }\n",
       "</style>\n",
       "<table border=\"1\" class=\"dataframe\">\n",
       "  <thead>\n",
       "    <tr style=\"text-align: right;\">\n",
       "      <th></th>\n",
       "      <th>OrderID</th>\n",
       "      <th>CustomerID</th>\n",
       "      <th>EmployeeID</th>\n",
       "      <th>OrderDate</th>\n",
       "      <th>RequiredDate</th>\n",
       "      <th>ShippedDate</th>\n",
       "      <th>Freight</th>\n",
       "    </tr>\n",
       "  </thead>\n",
       "  <tbody>\n",
       "    <tr>\n",
       "      <th>0</th>\n",
       "      <td>10248</td>\n",
       "      <td>VINET</td>\n",
       "      <td>5</td>\n",
       "      <td>1996-07-04 00:00:00.000</td>\n",
       "      <td>1996-08-01 00:00:00.000</td>\n",
       "      <td>1996-07-16 00:00:00.000</td>\n",
       "      <td>32.38</td>\n",
       "    </tr>\n",
       "    <tr>\n",
       "      <th>1</th>\n",
       "      <td>10249</td>\n",
       "      <td>TOMSP</td>\n",
       "      <td>6</td>\n",
       "      <td>1996-07-05 00:00:00.000</td>\n",
       "      <td>1996-08-16 00:00:00.000</td>\n",
       "      <td>1996-07-10 00:00:00.000</td>\n",
       "      <td>11.61</td>\n",
       "    </tr>\n",
       "    <tr>\n",
       "      <th>2</th>\n",
       "      <td>10250</td>\n",
       "      <td>HANAR</td>\n",
       "      <td>4</td>\n",
       "      <td>1996-07-08 00:00:00.000</td>\n",
       "      <td>1996-08-05 00:00:00.000</td>\n",
       "      <td>1996-07-12 00:00:00.000</td>\n",
       "      <td>65.83</td>\n",
       "    </tr>\n",
       "    <tr>\n",
       "      <th>3</th>\n",
       "      <td>10251</td>\n",
       "      <td>VICTE</td>\n",
       "      <td>3</td>\n",
       "      <td>1996-07-08 00:00:00.000</td>\n",
       "      <td>1996-08-05 00:00:00.000</td>\n",
       "      <td>1996-07-15 00:00:00.000</td>\n",
       "      <td>41.34</td>\n",
       "    </tr>\n",
       "    <tr>\n",
       "      <th>4</th>\n",
       "      <td>10252</td>\n",
       "      <td>SUPRD</td>\n",
       "      <td>4</td>\n",
       "      <td>1996-07-09 00:00:00.000</td>\n",
       "      <td>1996-08-06 00:00:00.000</td>\n",
       "      <td>1996-07-11 00:00:00.000</td>\n",
       "      <td>51.30</td>\n",
       "    </tr>\n",
       "    <tr>\n",
       "      <th>...</th>\n",
       "      <td>...</td>\n",
       "      <td>...</td>\n",
       "      <td>...</td>\n",
       "      <td>...</td>\n",
       "      <td>...</td>\n",
       "      <td>...</td>\n",
       "      <td>...</td>\n",
       "    </tr>\n",
       "    <tr>\n",
       "      <th>825</th>\n",
       "      <td>11073</td>\n",
       "      <td>PERIC</td>\n",
       "      <td>2</td>\n",
       "      <td>1998-05-05 00:00:00.000</td>\n",
       "      <td>1998-06-02 00:00:00.000</td>\n",
       "      <td>NaN</td>\n",
       "      <td>24.95</td>\n",
       "    </tr>\n",
       "    <tr>\n",
       "      <th>826</th>\n",
       "      <td>11074</td>\n",
       "      <td>SIMOB</td>\n",
       "      <td>7</td>\n",
       "      <td>1998-05-06 00:00:00.000</td>\n",
       "      <td>1998-06-03 00:00:00.000</td>\n",
       "      <td>NaN</td>\n",
       "      <td>18.44</td>\n",
       "    </tr>\n",
       "    <tr>\n",
       "      <th>827</th>\n",
       "      <td>11075</td>\n",
       "      <td>RICSU</td>\n",
       "      <td>8</td>\n",
       "      <td>1998-05-06 00:00:00.000</td>\n",
       "      <td>1998-06-03 00:00:00.000</td>\n",
       "      <td>NaN</td>\n",
       "      <td>6.19</td>\n",
       "    </tr>\n",
       "    <tr>\n",
       "      <th>828</th>\n",
       "      <td>11076</td>\n",
       "      <td>BONAP</td>\n",
       "      <td>4</td>\n",
       "      <td>1998-05-06 00:00:00.000</td>\n",
       "      <td>1998-06-03 00:00:00.000</td>\n",
       "      <td>NaN</td>\n",
       "      <td>38.28</td>\n",
       "    </tr>\n",
       "    <tr>\n",
       "      <th>829</th>\n",
       "      <td>11077</td>\n",
       "      <td>RATTC</td>\n",
       "      <td>1</td>\n",
       "      <td>1998-05-06 00:00:00.000</td>\n",
       "      <td>1998-06-03 00:00:00.000</td>\n",
       "      <td>NaN</td>\n",
       "      <td>8.53</td>\n",
       "    </tr>\n",
       "  </tbody>\n",
       "</table>\n",
       "<p>830 rows × 7 columns</p>\n",
       "</div>"
      ],
      "text/plain": [
       "     OrderID CustomerID  EmployeeID                OrderDate  \\\n",
       "0      10248      VINET           5  1996-07-04 00:00:00.000   \n",
       "1      10249      TOMSP           6  1996-07-05 00:00:00.000   \n",
       "2      10250      HANAR           4  1996-07-08 00:00:00.000   \n",
       "3      10251      VICTE           3  1996-07-08 00:00:00.000   \n",
       "4      10252      SUPRD           4  1996-07-09 00:00:00.000   \n",
       "..       ...        ...         ...                      ...   \n",
       "825    11073      PERIC           2  1998-05-05 00:00:00.000   \n",
       "826    11074      SIMOB           7  1998-05-06 00:00:00.000   \n",
       "827    11075      RICSU           8  1998-05-06 00:00:00.000   \n",
       "828    11076      BONAP           4  1998-05-06 00:00:00.000   \n",
       "829    11077      RATTC           1  1998-05-06 00:00:00.000   \n",
       "\n",
       "                RequiredDate              ShippedDate  Freight  \n",
       "0    1996-08-01 00:00:00.000  1996-07-16 00:00:00.000    32.38  \n",
       "1    1996-08-16 00:00:00.000  1996-07-10 00:00:00.000    11.61  \n",
       "2    1996-08-05 00:00:00.000  1996-07-12 00:00:00.000    65.83  \n",
       "3    1996-08-05 00:00:00.000  1996-07-15 00:00:00.000    41.34  \n",
       "4    1996-08-06 00:00:00.000  1996-07-11 00:00:00.000    51.30  \n",
       "..                       ...                      ...      ...  \n",
       "825  1998-06-02 00:00:00.000                      NaN    24.95  \n",
       "826  1998-06-03 00:00:00.000                      NaN    18.44  \n",
       "827  1998-06-03 00:00:00.000                      NaN     6.19  \n",
       "828  1998-06-03 00:00:00.000                      NaN    38.28  \n",
       "829  1998-06-03 00:00:00.000                      NaN     8.53  \n",
       "\n",
       "[830 rows x 7 columns]"
      ]
     },
     "execution_count": 3,
     "metadata": {},
     "output_type": "execute_result"
    }
   ],
   "source": [
    "df_o"
   ]
  },
  {
   "cell_type": "code",
   "execution_count": 11,
   "id": "c0eec585",
   "metadata": {},
   "outputs": [],
   "source": [
    "# меняем тип данных даты заказа на datetime64[ns]\n",
    "df_o['OrderDate']=df_o['OrderDate'].astype('datetime64[ns]')"
   ]
  },
  {
   "cell_type": "code",
   "execution_count": 12,
   "id": "a8198ab3",
   "metadata": {},
   "outputs": [
    {
     "data": {
      "text/plain": [
       "OrderID         830\n",
       "CustomerID      830\n",
       "EmployeeID      830\n",
       "OrderDate       830\n",
       "RequiredDate    830\n",
       "ShippedDate     809\n",
       "Freight         830\n",
       "dtype: int64"
      ]
     },
     "execution_count": 12,
     "metadata": {},
     "output_type": "execute_result"
    }
   ],
   "source": [
    "# Кол-во не пустых строк\n",
    "df_o.count()"
   ]
  },
  {
   "cell_type": "code",
   "execution_count": 15,
   "id": "43052176",
   "metadata": {
    "scrolled": true
   },
   "outputs": [
    {
     "data": {
      "text/plain": [
       "480"
      ]
     },
     "execution_count": 15,
     "metadata": {},
     "output_type": "execute_result"
    }
   ],
   "source": [
    "# Уникальные значения\n",
    "df_o['OrderDate'].nunique()"
   ]
  },
  {
   "cell_type": "code",
   "execution_count": 16,
   "id": "49df16a8",
   "metadata": {},
   "outputs": [
    {
     "data": {
      "text/plain": [
       "<DatetimeArray>\n",
       "['1996-07-04 00:00:00', '1996-07-05 00:00:00', '1996-07-08 00:00:00',\n",
       " '1996-07-09 00:00:00', '1996-07-10 00:00:00', '1996-07-11 00:00:00',\n",
       " '1996-07-12 00:00:00', '1996-07-15 00:00:00', '1996-07-16 00:00:00',\n",
       " '1996-07-17 00:00:00',\n",
       " ...\n",
       " '1998-04-23 00:00:00', '1998-04-24 00:00:00', '1998-04-27 00:00:00',\n",
       " '1998-04-28 00:00:00', '1998-04-29 00:00:00', '1998-04-30 00:00:00',\n",
       " '1998-05-01 00:00:00', '1998-05-04 00:00:00', '1998-05-05 00:00:00',\n",
       " '1998-05-06 00:00:00']\n",
       "Length: 480, dtype: datetime64[ns]"
      ]
     },
     "execution_count": 16,
     "metadata": {},
     "output_type": "execute_result"
    }
   ],
   "source": [
    "df_o['OrderDate'].unique()"
   ]
  },
  {
   "cell_type": "code",
   "execution_count": 17,
   "id": "345994bf",
   "metadata": {},
   "outputs": [
    {
     "data": {
      "text/plain": [
       "array([5, 6, 4, 3, 9, 1, 8, 2, 7], dtype=int64)"
      ]
     },
     "execution_count": 17,
     "metadata": {},
     "output_type": "execute_result"
    }
   ],
   "source": [
    "# Уникальные значения EmployeeID\n",
    "df_o['EmployeeID'].unique()"
   ]
  },
  {
   "cell_type": "code",
   "execution_count": 18,
   "id": "fdcc75a9",
   "metadata": {},
   "outputs": [
    {
     "data": {
      "text/plain": [
       "Timestamp('1998-05-06 00:00:00')"
      ]
     },
     "execution_count": 18,
     "metadata": {},
     "output_type": "execute_result"
    }
   ],
   "source": [
    "# Max дата заказа\n",
    "df_o['OrderDate'].max()"
   ]
  },
  {
   "cell_type": "code",
   "execution_count": 19,
   "id": "69fe5b80",
   "metadata": {},
   "outputs": [
    {
     "data": {
      "text/plain": [
       "0.02"
      ]
     },
     "execution_count": 19,
     "metadata": {},
     "output_type": "execute_result"
    }
   ],
   "source": [
    "# Min вес заказа\n",
    "df_o['Freight'].min()"
   ]
  },
  {
   "cell_type": "code",
   "execution_count": 22,
   "id": "9b5315df",
   "metadata": {},
   "outputs": [
    {
     "data": {
      "text/plain": [
       "78.2442048192771"
      ]
     },
     "execution_count": 22,
     "metadata": {},
     "output_type": "execute_result"
    }
   ],
   "source": [
    "# Mean вес заказа\n",
    "df_o['Freight'].mean()"
   ]
  },
  {
   "cell_type": "code",
   "execution_count": 23,
   "id": "e4d6ad9c",
   "metadata": {},
   "outputs": [
    {
     "data": {
      "text/plain": [
       "min        0.020000\n",
       "max     1007.640000\n",
       "mean      78.244205\n",
       "Name: Freight, dtype: float64"
      ]
     },
     "execution_count": 23,
     "metadata": {},
     "output_type": "execute_result"
    }
   ],
   "source": [
    "# Список агрегирующих функций\n",
    "df_o['Freight'].agg(['min','max','mean'])"
   ]
  },
  {
   "cell_type": "code",
   "execution_count": 25,
   "id": "9000baee",
   "metadata": {},
   "outputs": [
    {
     "data": {
      "text/plain": [
       "Freight        0.02\n",
       "OrderDate    830.00\n",
       "dtype: float64"
      ]
     },
     "execution_count": 25,
     "metadata": {},
     "output_type": "execute_result"
    }
   ],
   "source": [
    "# Агрегирующие функции из двух столбцов\n",
    "df_o.agg({'Freight':'min','OrderDate':'count'})"
   ]
  },
  {
   "cell_type": "code",
   "execution_count": 26,
   "id": "362a4293",
   "metadata": {},
   "outputs": [
    {
     "data": {
      "text/html": [
       "<div>\n",
       "<style scoped>\n",
       "    .dataframe tbody tr th:only-of-type {\n",
       "        vertical-align: middle;\n",
       "    }\n",
       "\n",
       "    .dataframe tbody tr th {\n",
       "        vertical-align: top;\n",
       "    }\n",
       "\n",
       "    .dataframe thead th {\n",
       "        text-align: right;\n",
       "    }\n",
       "</style>\n",
       "<table border=\"1\" class=\"dataframe\">\n",
       "  <thead>\n",
       "    <tr style=\"text-align: right;\">\n",
       "      <th></th>\n",
       "      <th>Freight</th>\n",
       "      <th>OrderDate</th>\n",
       "    </tr>\n",
       "  </thead>\n",
       "  <tbody>\n",
       "    <tr>\n",
       "      <th>min</th>\n",
       "      <td>0.020000</td>\n",
       "      <td>NaN</td>\n",
       "    </tr>\n",
       "    <tr>\n",
       "      <th>max</th>\n",
       "      <td>1007.640000</td>\n",
       "      <td>NaN</td>\n",
       "    </tr>\n",
       "    <tr>\n",
       "      <th>mean</th>\n",
       "      <td>78.244205</td>\n",
       "      <td>NaN</td>\n",
       "    </tr>\n",
       "    <tr>\n",
       "      <th>count</th>\n",
       "      <td>NaN</td>\n",
       "      <td>830.0</td>\n",
       "    </tr>\n",
       "  </tbody>\n",
       "</table>\n",
       "</div>"
      ],
      "text/plain": [
       "           Freight  OrderDate\n",
       "min       0.020000        NaN\n",
       "max    1007.640000        NaN\n",
       "mean     78.244205        NaN\n",
       "count          NaN      830.0"
      ]
     },
     "execution_count": 26,
     "metadata": {},
     "output_type": "execute_result"
    }
   ],
   "source": [
    "# Список агрегирующих функций из двух столбцов\n",
    "df_o.agg({'Freight':['min','max','mean'],'OrderDate':'count'})"
   ]
  },
  {
   "cell_type": "code",
   "execution_count": 27,
   "id": "2edecb64",
   "metadata": {},
   "outputs": [
    {
     "data": {
      "text/plain": [
       "array(['Sales Representative', 'Owner', 'Order Administrator',\n",
       "       'Marketing Manager', 'Accounting Manager', 'Sales Agent',\n",
       "       'Sales Associate', 'Sales Manager', 'Marketing Assistant',\n",
       "       'Assistant Sales Agent', 'Assistant Sales Representative',\n",
       "       'Owner/Marketing Assistant'], dtype=object)"
      ]
     },
     "execution_count": 27,
     "metadata": {},
     "output_type": "execute_result"
    }
   ],
   "source": [
    "# выведет список уникальных должностей\n",
    "df_c['ContactTitle'].unique()"
   ]
  },
  {
   "cell_type": "code",
   "execution_count": 28,
   "id": "c37b2e21",
   "metadata": {},
   "outputs": [
    {
     "data": {
      "text/plain": [
       "12"
      ]
     },
     "execution_count": 28,
     "metadata": {},
     "output_type": "execute_result"
    }
   ],
   "source": [
    "# посчитает количество уникальных должностей\n",
    "df_c['ContactTitle'].nunique()"
   ]
  },
  {
   "cell_type": "code",
   "execution_count": 29,
   "id": "7bf190e6",
   "metadata": {},
   "outputs": [
    {
     "data": {
      "text/plain": [
       "91"
      ]
     },
     "execution_count": 29,
     "metadata": {},
     "output_type": "execute_result"
    }
   ],
   "source": [
    "# посчитает количество не пустых значений\n",
    "df_c['ContactTitle'].count()"
   ]
  },
  {
   "cell_type": "markdown",
   "id": "035d7ad7",
   "metadata": {},
   "source": [
    "### Агрегация после фильтрации"
   ]
  },
  {
   "cell_type": "code",
   "execution_count": 30,
   "id": "c51837a3",
   "metadata": {},
   "outputs": [
    {
     "data": {
      "text/html": [
       "<div>\n",
       "<style scoped>\n",
       "    .dataframe tbody tr th:only-of-type {\n",
       "        vertical-align: middle;\n",
       "    }\n",
       "\n",
       "    .dataframe tbody tr th {\n",
       "        vertical-align: top;\n",
       "    }\n",
       "\n",
       "    .dataframe thead th {\n",
       "        text-align: right;\n",
       "    }\n",
       "</style>\n",
       "<table border=\"1\" class=\"dataframe\">\n",
       "  <thead>\n",
       "    <tr style=\"text-align: right;\">\n",
       "      <th></th>\n",
       "      <th>ProductID</th>\n",
       "      <th>ProductName</th>\n",
       "      <th>Product_Description</th>\n",
       "      <th>UnitPrice</th>\n",
       "      <th>CategoryID</th>\n",
       "      <th>CategoryName</th>\n",
       "      <th>Category_Description</th>\n",
       "    </tr>\n",
       "  </thead>\n",
       "  <tbody>\n",
       "    <tr>\n",
       "      <th>0</th>\n",
       "      <td>1</td>\n",
       "      <td>Chai</td>\n",
       "      <td>10 boxes x 20 bags</td>\n",
       "      <td>18.00</td>\n",
       "      <td>1</td>\n",
       "      <td>Beverages</td>\n",
       "      <td>Soft drinks. coffees. teas. beers. and ales</td>\n",
       "    </tr>\n",
       "    <tr>\n",
       "      <th>1</th>\n",
       "      <td>2</td>\n",
       "      <td>Chang</td>\n",
       "      <td>24 - 12 oz bottles</td>\n",
       "      <td>19.00</td>\n",
       "      <td>1</td>\n",
       "      <td>Beverages</td>\n",
       "      <td>Soft drinks. coffees. teas. beers. and ales</td>\n",
       "    </tr>\n",
       "    <tr>\n",
       "      <th>2</th>\n",
       "      <td>3</td>\n",
       "      <td>Aniseed Syrup</td>\n",
       "      <td>12 - 550 ml bottles</td>\n",
       "      <td>10.00</td>\n",
       "      <td>2</td>\n",
       "      <td>Condiments</td>\n",
       "      <td>Sweet and savory sauces. relishes. spreads. an...</td>\n",
       "    </tr>\n",
       "    <tr>\n",
       "      <th>3</th>\n",
       "      <td>4</td>\n",
       "      <td>Chef Anton's Cajun Seasoning</td>\n",
       "      <td>48 - 6 oz jars</td>\n",
       "      <td>22.00</td>\n",
       "      <td>2</td>\n",
       "      <td>Condiments</td>\n",
       "      <td>Sweet and savory sauces. relishes. spreads. an...</td>\n",
       "    </tr>\n",
       "    <tr>\n",
       "      <th>4</th>\n",
       "      <td>5</td>\n",
       "      <td>Chef Anton's Gumbo Mix</td>\n",
       "      <td>36 boxes</td>\n",
       "      <td>21.35</td>\n",
       "      <td>2</td>\n",
       "      <td>Condiments</td>\n",
       "      <td>Sweet and savory sauces. relishes. spreads. an...</td>\n",
       "    </tr>\n",
       "    <tr>\n",
       "      <th>...</th>\n",
       "      <td>...</td>\n",
       "      <td>...</td>\n",
       "      <td>...</td>\n",
       "      <td>...</td>\n",
       "      <td>...</td>\n",
       "      <td>...</td>\n",
       "      <td>...</td>\n",
       "    </tr>\n",
       "    <tr>\n",
       "      <th>72</th>\n",
       "      <td>73</td>\n",
       "      <td>Rod Kaviar</td>\n",
       "      <td>24 - 150 g jars</td>\n",
       "      <td>15.00</td>\n",
       "      <td>8</td>\n",
       "      <td>Seafood</td>\n",
       "      <td>Seaweed and fish</td>\n",
       "    </tr>\n",
       "    <tr>\n",
       "      <th>73</th>\n",
       "      <td>74</td>\n",
       "      <td>Longlife Tofu</td>\n",
       "      <td>5 kg pkg.</td>\n",
       "      <td>10.00</td>\n",
       "      <td>7</td>\n",
       "      <td>Produce</td>\n",
       "      <td>Dried fruit and bean curd</td>\n",
       "    </tr>\n",
       "    <tr>\n",
       "      <th>74</th>\n",
       "      <td>75</td>\n",
       "      <td>Rhonbrau Klosterbier</td>\n",
       "      <td>24 - 0.5 l bottles</td>\n",
       "      <td>7.75</td>\n",
       "      <td>1</td>\n",
       "      <td>Beverages</td>\n",
       "      <td>Soft drinks. coffees. teas. beers. and ales</td>\n",
       "    </tr>\n",
       "    <tr>\n",
       "      <th>75</th>\n",
       "      <td>76</td>\n",
       "      <td>Lakkalikoori</td>\n",
       "      <td>500 ml</td>\n",
       "      <td>18.00</td>\n",
       "      <td>1</td>\n",
       "      <td>Beverages</td>\n",
       "      <td>Soft drinks. coffees. teas. beers. and ales</td>\n",
       "    </tr>\n",
       "    <tr>\n",
       "      <th>76</th>\n",
       "      <td>77</td>\n",
       "      <td>Original Frankfurter gr?ne Sobe</td>\n",
       "      <td>12 boxes</td>\n",
       "      <td>13.00</td>\n",
       "      <td>2</td>\n",
       "      <td>Condiments</td>\n",
       "      <td>Sweet and savory sauces. relishes. spreads. an...</td>\n",
       "    </tr>\n",
       "  </tbody>\n",
       "</table>\n",
       "<p>77 rows × 7 columns</p>\n",
       "</div>"
      ],
      "text/plain": [
       "    ProductID                      ProductName  Product_Description  \\\n",
       "0           1                             Chai   10 boxes x 20 bags   \n",
       "1           2                            Chang   24 - 12 oz bottles   \n",
       "2           3                    Aniseed Syrup  12 - 550 ml bottles   \n",
       "3           4     Chef Anton's Cajun Seasoning       48 - 6 oz jars   \n",
       "4           5           Chef Anton's Gumbo Mix             36 boxes   \n",
       "..        ...                              ...                  ...   \n",
       "72         73                       Rod Kaviar      24 - 150 g jars   \n",
       "73         74                    Longlife Tofu            5 kg pkg.   \n",
       "74         75             Rhonbrau Klosterbier   24 - 0.5 l bottles   \n",
       "75         76                     Lakkalikoori               500 ml   \n",
       "76         77  Original Frankfurter gr?ne Sobe             12 boxes   \n",
       "\n",
       "    UnitPrice  CategoryID CategoryName  \\\n",
       "0       18.00           1    Beverages   \n",
       "1       19.00           1    Beverages   \n",
       "2       10.00           2   Condiments   \n",
       "3       22.00           2   Condiments   \n",
       "4       21.35           2   Condiments   \n",
       "..        ...         ...          ...   \n",
       "72      15.00           8      Seafood   \n",
       "73      10.00           7      Produce   \n",
       "74       7.75           1    Beverages   \n",
       "75      18.00           1    Beverages   \n",
       "76      13.00           2   Condiments   \n",
       "\n",
       "                                 Category_Description  \n",
       "0         Soft drinks. coffees. teas. beers. and ales  \n",
       "1         Soft drinks. coffees. teas. beers. and ales  \n",
       "2   Sweet and savory sauces. relishes. spreads. an...  \n",
       "3   Sweet and savory sauces. relishes. spreads. an...  \n",
       "4   Sweet and savory sauces. relishes. spreads. an...  \n",
       "..                                                ...  \n",
       "72                                   Seaweed and fish  \n",
       "73                          Dried fruit and bean curd  \n",
       "74        Soft drinks. coffees. teas. beers. and ales  \n",
       "75        Soft drinks. coffees. teas. beers. and ales  \n",
       "76  Sweet and savory sauces. relishes. spreads. an...  \n",
       "\n",
       "[77 rows x 7 columns]"
      ]
     },
     "execution_count": 30,
     "metadata": {},
     "output_type": "execute_result"
    }
   ],
   "source": [
    "df_p"
   ]
  },
  {
   "cell_type": "code",
   "execution_count": 31,
   "id": "9507dd2d",
   "metadata": {},
   "outputs": [
    {
     "data": {
      "text/html": [
       "<div>\n",
       "<style scoped>\n",
       "    .dataframe tbody tr th:only-of-type {\n",
       "        vertical-align: middle;\n",
       "    }\n",
       "\n",
       "    .dataframe tbody tr th {\n",
       "        vertical-align: top;\n",
       "    }\n",
       "\n",
       "    .dataframe thead th {\n",
       "        text-align: right;\n",
       "    }\n",
       "</style>\n",
       "<table border=\"1\" class=\"dataframe\">\n",
       "  <thead>\n",
       "    <tr style=\"text-align: right;\">\n",
       "      <th></th>\n",
       "      <th>ProductID</th>\n",
       "      <th>ProductName</th>\n",
       "      <th>Product_Description</th>\n",
       "      <th>UnitPrice</th>\n",
       "      <th>CategoryID</th>\n",
       "      <th>CategoryName</th>\n",
       "      <th>Category_Description</th>\n",
       "    </tr>\n",
       "  </thead>\n",
       "  <tbody>\n",
       "    <tr>\n",
       "      <th>0</th>\n",
       "      <td>1</td>\n",
       "      <td>Chai</td>\n",
       "      <td>10 boxes x 20 bags</td>\n",
       "      <td>18.00</td>\n",
       "      <td>1</td>\n",
       "      <td>Beverages</td>\n",
       "      <td>Soft drinks. coffees. teas. beers. and ales</td>\n",
       "    </tr>\n",
       "    <tr>\n",
       "      <th>1</th>\n",
       "      <td>2</td>\n",
       "      <td>Chang</td>\n",
       "      <td>24 - 12 oz bottles</td>\n",
       "      <td>19.00</td>\n",
       "      <td>1</td>\n",
       "      <td>Beverages</td>\n",
       "      <td>Soft drinks. coffees. teas. beers. and ales</td>\n",
       "    </tr>\n",
       "    <tr>\n",
       "      <th>23</th>\n",
       "      <td>24</td>\n",
       "      <td>Guaran? Fant?stica</td>\n",
       "      <td>12 - 355 ml cans</td>\n",
       "      <td>4.50</td>\n",
       "      <td>1</td>\n",
       "      <td>Beverages</td>\n",
       "      <td>Soft drinks. coffees. teas. beers. and ales</td>\n",
       "    </tr>\n",
       "    <tr>\n",
       "      <th>33</th>\n",
       "      <td>34</td>\n",
       "      <td>Sasquatch Ale</td>\n",
       "      <td>24 - 12 oz bottles</td>\n",
       "      <td>14.00</td>\n",
       "      <td>1</td>\n",
       "      <td>Beverages</td>\n",
       "      <td>Soft drinks. coffees. teas. beers. and ales</td>\n",
       "    </tr>\n",
       "    <tr>\n",
       "      <th>34</th>\n",
       "      <td>35</td>\n",
       "      <td>Steeleye Stout</td>\n",
       "      <td>24 - 12 oz bottles</td>\n",
       "      <td>18.00</td>\n",
       "      <td>1</td>\n",
       "      <td>Beverages</td>\n",
       "      <td>Soft drinks. coffees. teas. beers. and ales</td>\n",
       "    </tr>\n",
       "    <tr>\n",
       "      <th>37</th>\n",
       "      <td>38</td>\n",
       "      <td>C?te de Blaye</td>\n",
       "      <td>12 - 75 cl bottles</td>\n",
       "      <td>263.50</td>\n",
       "      <td>1</td>\n",
       "      <td>Beverages</td>\n",
       "      <td>Soft drinks. coffees. teas. beers. and ales</td>\n",
       "    </tr>\n",
       "    <tr>\n",
       "      <th>38</th>\n",
       "      <td>39</td>\n",
       "      <td>Chartreuse verte</td>\n",
       "      <td>750 cc per bottle</td>\n",
       "      <td>18.00</td>\n",
       "      <td>1</td>\n",
       "      <td>Beverages</td>\n",
       "      <td>Soft drinks. coffees. teas. beers. and ales</td>\n",
       "    </tr>\n",
       "    <tr>\n",
       "      <th>42</th>\n",
       "      <td>43</td>\n",
       "      <td>Ipoh Coffee</td>\n",
       "      <td>16 - 500 g tins</td>\n",
       "      <td>46.00</td>\n",
       "      <td>1</td>\n",
       "      <td>Beverages</td>\n",
       "      <td>Soft drinks. coffees. teas. beers. and ales</td>\n",
       "    </tr>\n",
       "    <tr>\n",
       "      <th>66</th>\n",
       "      <td>67</td>\n",
       "      <td>Laughing Lumberjack Lager</td>\n",
       "      <td>24 - 12 oz bottles</td>\n",
       "      <td>14.00</td>\n",
       "      <td>1</td>\n",
       "      <td>Beverages</td>\n",
       "      <td>Soft drinks. coffees. teas. beers. and ales</td>\n",
       "    </tr>\n",
       "    <tr>\n",
       "      <th>69</th>\n",
       "      <td>70</td>\n",
       "      <td>Outback Lager</td>\n",
       "      <td>24 - 355 ml bottles</td>\n",
       "      <td>15.00</td>\n",
       "      <td>1</td>\n",
       "      <td>Beverages</td>\n",
       "      <td>Soft drinks. coffees. teas. beers. and ales</td>\n",
       "    </tr>\n",
       "    <tr>\n",
       "      <th>74</th>\n",
       "      <td>75</td>\n",
       "      <td>Rhonbrau Klosterbier</td>\n",
       "      <td>24 - 0.5 l bottles</td>\n",
       "      <td>7.75</td>\n",
       "      <td>1</td>\n",
       "      <td>Beverages</td>\n",
       "      <td>Soft drinks. coffees. teas. beers. and ales</td>\n",
       "    </tr>\n",
       "    <tr>\n",
       "      <th>75</th>\n",
       "      <td>76</td>\n",
       "      <td>Lakkalikoori</td>\n",
       "      <td>500 ml</td>\n",
       "      <td>18.00</td>\n",
       "      <td>1</td>\n",
       "      <td>Beverages</td>\n",
       "      <td>Soft drinks. coffees. teas. beers. and ales</td>\n",
       "    </tr>\n",
       "  </tbody>\n",
       "</table>\n",
       "</div>"
      ],
      "text/plain": [
       "    ProductID                ProductName  Product_Description  UnitPrice  \\\n",
       "0           1                       Chai   10 boxes x 20 bags      18.00   \n",
       "1           2                      Chang   24 - 12 oz bottles      19.00   \n",
       "23         24         Guaran? Fant?stica     12 - 355 ml cans       4.50   \n",
       "33         34              Sasquatch Ale   24 - 12 oz bottles      14.00   \n",
       "34         35             Steeleye Stout   24 - 12 oz bottles      18.00   \n",
       "37         38              C?te de Blaye   12 - 75 cl bottles     263.50   \n",
       "38         39           Chartreuse verte    750 cc per bottle      18.00   \n",
       "42         43                Ipoh Coffee      16 - 500 g tins      46.00   \n",
       "66         67  Laughing Lumberjack Lager   24 - 12 oz bottles      14.00   \n",
       "69         70              Outback Lager  24 - 355 ml bottles      15.00   \n",
       "74         75       Rhonbrau Klosterbier   24 - 0.5 l bottles       7.75   \n",
       "75         76               Lakkalikoori               500 ml      18.00   \n",
       "\n",
       "    CategoryID CategoryName                         Category_Description  \n",
       "0            1    Beverages  Soft drinks. coffees. teas. beers. and ales  \n",
       "1            1    Beverages  Soft drinks. coffees. teas. beers. and ales  \n",
       "23           1    Beverages  Soft drinks. coffees. teas. beers. and ales  \n",
       "33           1    Beverages  Soft drinks. coffees. teas. beers. and ales  \n",
       "34           1    Beverages  Soft drinks. coffees. teas. beers. and ales  \n",
       "37           1    Beverages  Soft drinks. coffees. teas. beers. and ales  \n",
       "38           1    Beverages  Soft drinks. coffees. teas. beers. and ales  \n",
       "42           1    Beverages  Soft drinks. coffees. teas. beers. and ales  \n",
       "66           1    Beverages  Soft drinks. coffees. teas. beers. and ales  \n",
       "69           1    Beverages  Soft drinks. coffees. teas. beers. and ales  \n",
       "74           1    Beverages  Soft drinks. coffees. teas. beers. and ales  \n",
       "75           1    Beverages  Soft drinks. coffees. teas. beers. and ales  "
      ]
     },
     "execution_count": 31,
     "metadata": {},
     "output_type": "execute_result"
    }
   ],
   "source": [
    "df_p[df_p['CategoryName']== 'Beverages']"
   ]
  },
  {
   "cell_type": "code",
   "execution_count": 32,
   "id": "7d4a04e7",
   "metadata": {},
   "outputs": [
    {
     "data": {
      "text/plain": [
       "12"
      ]
     },
     "execution_count": 32,
     "metadata": {},
     "output_type": "execute_result"
    }
   ],
   "source": [
    "df_p[df_p['CategoryName']== 'Beverages']['ProductID'].count()"
   ]
  },
  {
   "cell_type": "code",
   "execution_count": 34,
   "id": "d2031150",
   "metadata": {},
   "outputs": [
    {
     "data": {
      "text/plain": [
       "4.5"
      ]
     },
     "execution_count": 34,
     "metadata": {},
     "output_type": "execute_result"
    }
   ],
   "source": [
    "# Min\n",
    "df_p[df_p['CategoryName']== 'Beverages'].UnitPrice.min()"
   ]
  },
  {
   "cell_type": "code",
   "execution_count": 35,
   "id": "a021e48b",
   "metadata": {},
   "outputs": [
    {
     "data": {
      "text/plain": [
       "min      4.5\n",
       "max    263.5\n",
       "Name: UnitPrice, dtype: float64"
      ]
     },
     "execution_count": 35,
     "metadata": {},
     "output_type": "execute_result"
    }
   ],
   "source": [
    "# Список агрегированных ф-ций после фильтрации\n",
    "df_p[df_p['CategoryName']== 'Beverages'].UnitPrice.agg(['min','max'])"
   ]
  },
  {
   "cell_type": "code",
   "execution_count": 37,
   "id": "afa6d786",
   "metadata": {},
   "outputs": [
    {
     "data": {
      "text/plain": [
       "10279.869999999999"
      ]
     },
     "execution_count": 37,
     "metadata": {},
     "output_type": "execute_result"
    }
   ],
   "source": [
    "# Суммарный вес заказов, своершенных в 1996 г\n",
    "df_o[df_o['OrderDate'].between('1996-01-01','1996-12-31')].Freight.sum()"
   ]
  },
  {
   "cell_type": "code",
   "execution_count": 43,
   "id": "c0b4932a",
   "metadata": {},
   "outputs": [
    {
     "data": {
      "text/plain": [
       "CustomerID      34\n",
       "ContactName     34\n",
       "ContactTitle    34\n",
       "Phone           34\n",
       "Address         34\n",
       "dtype: int64"
      ]
     },
     "execution_count": 43,
     "metadata": {},
     "output_type": "execute_result"
    }
   ],
   "source": [
    "# Кол-во клиентов, у которых должность Owner или Sales Representative\n",
    "df_c[df_c['ContactTitle'].isin(['Owner','Sales Representative'])].count()"
   ]
  },
  {
   "cell_type": "code",
   "execution_count": 46,
   "id": "61478267",
   "metadata": {},
   "outputs": [
    {
     "data": {
      "text/plain": [
       "min        NaN\n",
       "max    1007.62\n",
       "Name: Freight, dtype: float64"
      ]
     },
     "execution_count": 46,
     "metadata": {},
     "output_type": "execute_result"
    }
   ],
   "source": [
    "# Разница между максимальным весом заказа и минимальным весом заказа\n",
    "df_o['Freight'].agg(['min','max']).diff()"
   ]
  },
  {
   "cell_type": "code",
   "execution_count": 50,
   "id": "efe7fcbb",
   "metadata": {},
   "outputs": [
    {
     "data": {
      "text/plain": [
       "776.27"
      ]
     },
     "execution_count": 50,
     "metadata": {},
     "output_type": "execute_result"
    }
   ],
   "source": [
    "# суммарный вес заказов, которые были совершены 26 февраля 1998 года\n",
    "df_o[df_o['OrderDate']== '1998-02-26'].Freight.sum()"
   ]
  }
 ],
 "metadata": {
  "kernelspec": {
   "display_name": "Python 3 (ipykernel)",
   "language": "python",
   "name": "python3"
  },
  "language_info": {
   "codemirror_mode": {
    "name": "ipython",
    "version": 3
   },
   "file_extension": ".py",
   "mimetype": "text/x-python",
   "name": "python",
   "nbconvert_exporter": "python",
   "pygments_lexer": "ipython3",
   "version": "3.11.5"
  }
 },
 "nbformat": 4,
 "nbformat_minor": 5
}
