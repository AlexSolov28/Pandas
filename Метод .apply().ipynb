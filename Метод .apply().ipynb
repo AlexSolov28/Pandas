{
 "cells": [
  {
   "cell_type": "code",
   "execution_count": 1,
   "id": "905bc1b4",
   "metadata": {},
   "outputs": [],
   "source": [
    "import pandas as pd"
   ]
  },
  {
   "cell_type": "code",
   "execution_count": 2,
   "id": "eebef359",
   "metadata": {},
   "outputs": [],
   "source": [
    "df_p = pd.read_csv('C:/Users/Пользователь/Desktop/Python/Pandas_ данные для курса/Products.csv', sep = ';')\n",
    "df_c = pd.read_csv('C:/Users/Пользователь/Desktop/Python/Pandas_ данные для курса/Customers.csv', sep = ';')\n",
    "df_o = pd.read_csv('C:/Users/Пользователь/Desktop/Python/Pandas_ данные для курса/Orders.csv', sep = ';')\n",
    "df_od = pd.read_csv('C:/Users/Пользователь/Desktop/Python/Pandas_ данные для курса/Order_details.csv', sep = ';')\n",
    "df_e = pd.read_excel('C:/Users/Пользователь/Desktop/Python/Pandas_ данные для курса/Employees.xlsx')"
   ]
  },
  {
   "cell_type": "code",
   "execution_count": null,
   "id": "72277844",
   "metadata": {},
   "outputs": [],
   "source": []
  }
 ],
 "metadata": {
  "kernelspec": {
   "display_name": "Python 3 (ipykernel)",
   "language": "python",
   "name": "python3"
  },
  "language_info": {
   "codemirror_mode": {
    "name": "ipython",
    "version": 3
   },
   "file_extension": ".py",
   "mimetype": "text/x-python",
   "name": "python",
   "nbconvert_exporter": "python",
   "pygments_lexer": "ipython3",
   "version": "3.11.5"
  }
 },
 "nbformat": 4,
 "nbformat_minor": 5
}
