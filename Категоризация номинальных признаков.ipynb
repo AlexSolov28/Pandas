{
 "cells": [
  {
   "cell_type": "code",
   "execution_count": 1,
   "id": "db71543d",
   "metadata": {},
   "outputs": [],
   "source": [
    "import pandas as pd"
   ]
  },
  {
   "cell_type": "code",
   "execution_count": 2,
   "id": "d8939cb6",
   "metadata": {},
   "outputs": [],
   "source": [
    "df_p = pd.read_csv('C:/Users/Пользователь/Desktop/Python/Pandas_ данные для курса/Products.csv', sep = ';')\n",
    "df_c = pd.read_csv('C:/Users/Пользователь/Desktop/Python/Pandas_ данные для курса/Customers.csv', sep = ';')\n",
    "df_o = pd.read_csv('C:/Users/Пользователь/Desktop/Python/Pandas_ данные для курса/Orders.csv', sep = ';')\n",
    "df_od = pd.read_csv('C:/Users/Пользователь/Desktop/Python/Pandas_ данные для курса/Order_details.csv', sep = ';')\n",
    "df_e = pd.read_excel('C:/Users/Пользователь/Desktop/Python/Pandas_ данные для курса/Employees.xlsx')"
   ]
  },
  {
   "cell_type": "code",
   "execution_count": 3,
   "id": "536bba4c",
   "metadata": {},
   "outputs": [
    {
     "data": {
      "text/html": [
       "<div>\n",
       "<style scoped>\n",
       "    .dataframe tbody tr th:only-of-type {\n",
       "        vertical-align: middle;\n",
       "    }\n",
       "\n",
       "    .dataframe tbody tr th {\n",
       "        vertical-align: top;\n",
       "    }\n",
       "\n",
       "    .dataframe thead th {\n",
       "        text-align: right;\n",
       "    }\n",
       "</style>\n",
       "<table border=\"1\" class=\"dataframe\">\n",
       "  <thead>\n",
       "    <tr style=\"text-align: right;\">\n",
       "      <th></th>\n",
       "      <th>ProductID</th>\n",
       "      <th>ProductName</th>\n",
       "      <th>Product_Description</th>\n",
       "      <th>UnitPrice</th>\n",
       "      <th>CategoryID</th>\n",
       "      <th>CategoryName</th>\n",
       "      <th>Category_Description</th>\n",
       "    </tr>\n",
       "  </thead>\n",
       "  <tbody>\n",
       "    <tr>\n",
       "      <th>0</th>\n",
       "      <td>1</td>\n",
       "      <td>Chai</td>\n",
       "      <td>10 boxes x 20 bags</td>\n",
       "      <td>18.00</td>\n",
       "      <td>1</td>\n",
       "      <td>Beverages</td>\n",
       "      <td>Soft drinks. coffees. teas. beers. and ales</td>\n",
       "    </tr>\n",
       "    <tr>\n",
       "      <th>1</th>\n",
       "      <td>2</td>\n",
       "      <td>Chang</td>\n",
       "      <td>24 - 12 oz bottles</td>\n",
       "      <td>19.00</td>\n",
       "      <td>1</td>\n",
       "      <td>Beverages</td>\n",
       "      <td>Soft drinks. coffees. teas. beers. and ales</td>\n",
       "    </tr>\n",
       "    <tr>\n",
       "      <th>2</th>\n",
       "      <td>3</td>\n",
       "      <td>Aniseed Syrup</td>\n",
       "      <td>12 - 550 ml bottles</td>\n",
       "      <td>10.00</td>\n",
       "      <td>2</td>\n",
       "      <td>Condiments</td>\n",
       "      <td>Sweet and savory sauces. relishes. spreads. an...</td>\n",
       "    </tr>\n",
       "    <tr>\n",
       "      <th>3</th>\n",
       "      <td>4</td>\n",
       "      <td>Chef Anton's Cajun Seasoning</td>\n",
       "      <td>48 - 6 oz jars</td>\n",
       "      <td>22.00</td>\n",
       "      <td>2</td>\n",
       "      <td>Condiments</td>\n",
       "      <td>Sweet and savory sauces. relishes. spreads. an...</td>\n",
       "    </tr>\n",
       "    <tr>\n",
       "      <th>4</th>\n",
       "      <td>5</td>\n",
       "      <td>Chef Anton's Gumbo Mix</td>\n",
       "      <td>36 boxes</td>\n",
       "      <td>21.35</td>\n",
       "      <td>2</td>\n",
       "      <td>Condiments</td>\n",
       "      <td>Sweet and savory sauces. relishes. spreads. an...</td>\n",
       "    </tr>\n",
       "  </tbody>\n",
       "</table>\n",
       "</div>"
      ],
      "text/plain": [
       "   ProductID                   ProductName  Product_Description  UnitPrice  \\\n",
       "0          1                          Chai   10 boxes x 20 bags      18.00   \n",
       "1          2                         Chang   24 - 12 oz bottles      19.00   \n",
       "2          3                 Aniseed Syrup  12 - 550 ml bottles      10.00   \n",
       "3          4  Chef Anton's Cajun Seasoning       48 - 6 oz jars      22.00   \n",
       "4          5        Chef Anton's Gumbo Mix             36 boxes      21.35   \n",
       "\n",
       "   CategoryID CategoryName                               Category_Description  \n",
       "0           1    Beverages        Soft drinks. coffees. teas. beers. and ales  \n",
       "1           1    Beverages        Soft drinks. coffees. teas. beers. and ales  \n",
       "2           2   Condiments  Sweet and savory sauces. relishes. spreads. an...  \n",
       "3           2   Condiments  Sweet and savory sauces. relishes. spreads. an...  \n",
       "4           2   Condiments  Sweet and savory sauces. relishes. spreads. an...  "
      ]
     },
     "execution_count": 3,
     "metadata": {},
     "output_type": "execute_result"
    }
   ],
   "source": [
    "df_p.head()"
   ]
  },
  {
   "cell_type": "markdown",
   "id": "3e205979",
   "metadata": {},
   "source": [
    "Bin - это группа. Разброс последовательных значений может быть собран в равные группы, которые называются бинами. К примеру, возрастные группы в каком-то демографическом анализе: от 0 до 5 лет, от 6 до 10, от 11 до 16 и т. д. Это и есть bin'ы.\n",
    "\n",
    "У нас это группы по стоимости продукта. Диапазон цен одного бина равен диапазону цен других бинов. А кол-во элементов/строк - разное. "
   ]
  },
  {
   "cell_type": "code",
   "execution_count": 11,
   "id": "5f1c6fab",
   "metadata": {},
   "outputs": [],
   "source": [
    "df_p['bins'] = pd.cut(df_p['UnitPrice'], bins = [0,10,20,30,40], labels = ['от 1 до 10','от 10 до 20','от 20 до 30','от 30 до 40'])"
   ]
  },
  {
   "cell_type": "code",
   "execution_count": 12,
   "id": "393d464d",
   "metadata": {},
   "outputs": [
    {
     "data": {
      "text/plain": [
       "bins\n",
       "от 1 до 10     14\n",
       "от 10 до 20    26\n",
       "от 20 до 30    13\n",
       "от 30 до 40    12\n",
       "Name: ProductID, dtype: int64"
      ]
     },
     "execution_count": 12,
     "metadata": {},
     "output_type": "execute_result"
    }
   ],
   "source": [
    "# Группировка по новому столбцу и подсчет кол-ва продуктов\n",
    "df_p.groupby('bins').ProductID.count()\n",
    "# ценовой диапазон продуктов"
   ]
  },
  {
   "cell_type": "code",
   "execution_count": 10,
   "id": "c093431e",
   "metadata": {},
   "outputs": [
    {
     "data": {
      "text/html": [
       "<div>\n",
       "<style scoped>\n",
       "    .dataframe tbody tr th:only-of-type {\n",
       "        vertical-align: middle;\n",
       "    }\n",
       "\n",
       "    .dataframe tbody tr th {\n",
       "        vertical-align: top;\n",
       "    }\n",
       "\n",
       "    .dataframe thead th {\n",
       "        text-align: right;\n",
       "    }\n",
       "</style>\n",
       "<table border=\"1\" class=\"dataframe\">\n",
       "  <thead>\n",
       "    <tr style=\"text-align: right;\">\n",
       "      <th></th>\n",
       "      <th>ProductID</th>\n",
       "      <th>ProductName</th>\n",
       "      <th>Product_Description</th>\n",
       "      <th>UnitPrice</th>\n",
       "      <th>CategoryID</th>\n",
       "      <th>CategoryName</th>\n",
       "      <th>Category_Description</th>\n",
       "      <th>bins</th>\n",
       "    </tr>\n",
       "  </thead>\n",
       "  <tbody>\n",
       "    <tr>\n",
       "      <th>37</th>\n",
       "      <td>38</td>\n",
       "      <td>C?te de Blaye</td>\n",
       "      <td>12 - 75 cl bottles</td>\n",
       "      <td>263.50</td>\n",
       "      <td>1</td>\n",
       "      <td>Beverages</td>\n",
       "      <td>Soft drinks. coffees. teas. beers. and ales</td>\n",
       "      <td>NaN</td>\n",
       "    </tr>\n",
       "    <tr>\n",
       "      <th>28</th>\n",
       "      <td>29</td>\n",
       "      <td>Th?ringer Rostbratwurst</td>\n",
       "      <td>50 bags x 30 sausgs.</td>\n",
       "      <td>123.79</td>\n",
       "      <td>6</td>\n",
       "      <td>Meat/Poultry</td>\n",
       "      <td>Prepared meats</td>\n",
       "      <td>NaN</td>\n",
       "    </tr>\n",
       "    <tr>\n",
       "      <th>8</th>\n",
       "      <td>9</td>\n",
       "      <td>Mishi Kobe Niku</td>\n",
       "      <td>18 - 500 g pkgs.</td>\n",
       "      <td>97.00</td>\n",
       "      <td>6</td>\n",
       "      <td>Meat/Poultry</td>\n",
       "      <td>Prepared meats</td>\n",
       "      <td>NaN</td>\n",
       "    </tr>\n",
       "    <tr>\n",
       "      <th>19</th>\n",
       "      <td>20</td>\n",
       "      <td>Sir Rodney's Marmalade</td>\n",
       "      <td>30 gift boxes</td>\n",
       "      <td>81.00</td>\n",
       "      <td>3</td>\n",
       "      <td>Confections</td>\n",
       "      <td>Desserts. candies. and sweet breads</td>\n",
       "      <td>NaN</td>\n",
       "    </tr>\n",
       "    <tr>\n",
       "      <th>17</th>\n",
       "      <td>18</td>\n",
       "      <td>Carnarvon Tigers</td>\n",
       "      <td>16 kg pkg.</td>\n",
       "      <td>62.50</td>\n",
       "      <td>8</td>\n",
       "      <td>Seafood</td>\n",
       "      <td>Seaweed and fish</td>\n",
       "      <td>NaN</td>\n",
       "    </tr>\n",
       "    <tr>\n",
       "      <th>...</th>\n",
       "      <td>...</td>\n",
       "      <td>...</td>\n",
       "      <td>...</td>\n",
       "      <td>...</td>\n",
       "      <td>...</td>\n",
       "      <td>...</td>\n",
       "      <td>...</td>\n",
       "      <td>...</td>\n",
       "    </tr>\n",
       "    <tr>\n",
       "      <th>53</th>\n",
       "      <td>54</td>\n",
       "      <td>Tourtiere</td>\n",
       "      <td>16 pies</td>\n",
       "      <td>7.45</td>\n",
       "      <td>6</td>\n",
       "      <td>Meat/Poultry</td>\n",
       "      <td>Prepared meats</td>\n",
       "      <td>(0.0, 10.0]</td>\n",
       "    </tr>\n",
       "    <tr>\n",
       "      <th>51</th>\n",
       "      <td>52</td>\n",
       "      <td>Filo Mix</td>\n",
       "      <td>16 - 2 kg boxes</td>\n",
       "      <td>7.00</td>\n",
       "      <td>5</td>\n",
       "      <td>Grains/Cereals</td>\n",
       "      <td>Breads. crackers. pasta. and cereal</td>\n",
       "      <td>(0.0, 10.0]</td>\n",
       "    </tr>\n",
       "    <tr>\n",
       "      <th>12</th>\n",
       "      <td>13</td>\n",
       "      <td>Konbu</td>\n",
       "      <td>2 kg box</td>\n",
       "      <td>6.00</td>\n",
       "      <td>8</td>\n",
       "      <td>Seafood</td>\n",
       "      <td>Seaweed and fish</td>\n",
       "      <td>(0.0, 10.0]</td>\n",
       "    </tr>\n",
       "    <tr>\n",
       "      <th>23</th>\n",
       "      <td>24</td>\n",
       "      <td>Guaran? Fant?stica</td>\n",
       "      <td>12 - 355 ml cans</td>\n",
       "      <td>4.50</td>\n",
       "      <td>1</td>\n",
       "      <td>Beverages</td>\n",
       "      <td>Soft drinks. coffees. teas. beers. and ales</td>\n",
       "      <td>(0.0, 10.0]</td>\n",
       "    </tr>\n",
       "    <tr>\n",
       "      <th>32</th>\n",
       "      <td>33</td>\n",
       "      <td>Geitost</td>\n",
       "      <td>500 g</td>\n",
       "      <td>2.50</td>\n",
       "      <td>4</td>\n",
       "      <td>Dairy Products</td>\n",
       "      <td>Cheeses</td>\n",
       "      <td>(0.0, 10.0]</td>\n",
       "    </tr>\n",
       "  </tbody>\n",
       "</table>\n",
       "<p>77 rows × 8 columns</p>\n",
       "</div>"
      ],
      "text/plain": [
       "    ProductID              ProductName   Product_Description  UnitPrice  \\\n",
       "37         38            C?te de Blaye    12 - 75 cl bottles     263.50   \n",
       "28         29  Th?ringer Rostbratwurst  50 bags x 30 sausgs.     123.79   \n",
       "8           9          Mishi Kobe Niku      18 - 500 g pkgs.      97.00   \n",
       "19         20   Sir Rodney's Marmalade         30 gift boxes      81.00   \n",
       "17         18         Carnarvon Tigers            16 kg pkg.      62.50   \n",
       "..        ...                      ...                   ...        ...   \n",
       "53         54                Tourtiere               16 pies       7.45   \n",
       "51         52                 Filo Mix       16 - 2 kg boxes       7.00   \n",
       "12         13                    Konbu              2 kg box       6.00   \n",
       "23         24       Guaran? Fant?stica      12 - 355 ml cans       4.50   \n",
       "32         33                  Geitost                 500 g       2.50   \n",
       "\n",
       "    CategoryID    CategoryName                         Category_Description  \\\n",
       "37           1       Beverages  Soft drinks. coffees. teas. beers. and ales   \n",
       "28           6    Meat/Poultry                               Prepared meats   \n",
       "8            6    Meat/Poultry                               Prepared meats   \n",
       "19           3     Confections          Desserts. candies. and sweet breads   \n",
       "17           8         Seafood                             Seaweed and fish   \n",
       "..         ...             ...                                          ...   \n",
       "53           6    Meat/Poultry                               Prepared meats   \n",
       "51           5  Grains/Cereals          Breads. crackers. pasta. and cereal   \n",
       "12           8         Seafood                             Seaweed and fish   \n",
       "23           1       Beverages  Soft drinks. coffees. teas. beers. and ales   \n",
       "32           4  Dairy Products                                      Cheeses   \n",
       "\n",
       "           bins  \n",
       "37          NaN  \n",
       "28          NaN  \n",
       "8           NaN  \n",
       "19          NaN  \n",
       "17          NaN  \n",
       "..          ...  \n",
       "53  (0.0, 10.0]  \n",
       "51  (0.0, 10.0]  \n",
       "12  (0.0, 10.0]  \n",
       "23  (0.0, 10.0]  \n",
       "32  (0.0, 10.0]  \n",
       "\n",
       "[77 rows x 8 columns]"
      ]
     },
     "execution_count": 10,
     "metadata": {},
     "output_type": "execute_result"
    }
   ],
   "source": [
    "df_p.sort_values('UnitPrice', ascending = False)"
   ]
  },
  {
   "cell_type": "code",
   "execution_count": 13,
   "id": "ce5f5428",
   "metadata": {},
   "outputs": [],
   "source": [
    "df_p['bins'] = pd.qcut(df_p['UnitPrice'], 4)"
   ]
  },
  {
   "cell_type": "code",
   "execution_count": 14,
   "id": "234e7eec",
   "metadata": {},
   "outputs": [
    {
     "data": {
      "text/plain": [
       "bins\n",
       "(2.499, 13.25]    20\n",
       "(13.25, 19.5]     19\n",
       "(19.5, 33.25]     19\n",
       "(33.25, 263.5]    19\n",
       "Name: ProductID, dtype: int64"
      ]
     },
     "execution_count": 14,
     "metadata": {},
     "output_type": "execute_result"
    }
   ],
   "source": [
    "# Диапазоны по кол-ву товаров\n",
    "df_p.groupby('bins').ProductID.count()"
   ]
  },
  {
   "cell_type": "code",
   "execution_count": 15,
   "id": "cd0a81eb",
   "metadata": {},
   "outputs": [],
   "source": [
    "df_p['bins'] = pd.cut(df_p['UnitPrice'],4)"
   ]
  },
  {
   "cell_type": "markdown",
   "id": "886c6678",
   "metadata": {},
   "source": [
    "У столбца bins тип данных category. Тип данных category ведет себя как текст (тип данных object), но внутри он представлен массивом целых чисел, что позволяет сортировать столбец bins как числа. "
   ]
  },
  {
   "cell_type": "code",
   "execution_count": 17,
   "id": "0a68f103",
   "metadata": {},
   "outputs": [
    {
     "data": {
      "text/plain": [
       "ProductID                  int64\n",
       "ProductName               object\n",
       "Product_Description       object\n",
       "UnitPrice                float64\n",
       "CategoryID                 int64\n",
       "CategoryName              object\n",
       "Category_Description      object\n",
       "bins                    category\n",
       "dtype: object"
      ]
     },
     "execution_count": 17,
     "metadata": {},
     "output_type": "execute_result"
    }
   ],
   "source": [
    "df_p.dtypes"
   ]
  },
  {
   "cell_type": "markdown",
   "id": "a1d44986",
   "metadata": {},
   "source": [
    "Посчитайте для каждого заказа чистую выручку. Затем помощью метода .cut() разбейте столбец с чистой выручкой на 5 бинов. Добавьте столбец с бинами в датафрейм. Далее в разрезе бинов посчитайте количество заказов. Сопоставьте бин и количество заказов в бине."
   ]
  },
  {
   "cell_type": "code",
   "execution_count": 18,
   "id": "3ddefb90",
   "metadata": {},
   "outputs": [],
   "source": [
    "df_od['Discount_Fact'] = df_od['UnitPrice']*df_od['Quantity']*df_od['Discount']\n",
    "df_od['Revenue'] = df_od['UnitPrice']*df_od['Quantity']-df_od['Discount_Fact']"
   ]
  },
  {
   "cell_type": "code",
   "execution_count": 20,
   "id": "60115974",
   "metadata": {},
   "outputs": [],
   "source": [
    "df_od2 = df_od.groupby('OrderID').agg({'Discount_Fact': 'sum', 'Revenue': 'sum'}).reset_index()"
   ]
  },
  {
   "cell_type": "code",
   "execution_count": 21,
   "id": "81fc3b9a",
   "metadata": {},
   "outputs": [
    {
     "data": {
      "text/html": [
       "<div>\n",
       "<style scoped>\n",
       "    .dataframe tbody tr th:only-of-type {\n",
       "        vertical-align: middle;\n",
       "    }\n",
       "\n",
       "    .dataframe tbody tr th {\n",
       "        vertical-align: top;\n",
       "    }\n",
       "\n",
       "    .dataframe thead th {\n",
       "        text-align: right;\n",
       "    }\n",
       "</style>\n",
       "<table border=\"1\" class=\"dataframe\">\n",
       "  <thead>\n",
       "    <tr style=\"text-align: right;\">\n",
       "      <th></th>\n",
       "      <th>OrderID</th>\n",
       "      <th>Discount_Fact</th>\n",
       "      <th>Revenue</th>\n",
       "    </tr>\n",
       "  </thead>\n",
       "  <tbody>\n",
       "    <tr>\n",
       "      <th>0</th>\n",
       "      <td>10248</td>\n",
       "      <td>0.0000</td>\n",
       "      <td>440.0000</td>\n",
       "    </tr>\n",
       "    <tr>\n",
       "      <th>1</th>\n",
       "      <td>10249</td>\n",
       "      <td>0.0000</td>\n",
       "      <td>1863.4000</td>\n",
       "    </tr>\n",
       "    <tr>\n",
       "      <th>2</th>\n",
       "      <td>10250</td>\n",
       "      <td>260.4000</td>\n",
       "      <td>1552.6000</td>\n",
       "    </tr>\n",
       "    <tr>\n",
       "      <th>3</th>\n",
       "      <td>10251</td>\n",
       "      <td>16.7400</td>\n",
       "      <td>654.0600</td>\n",
       "    </tr>\n",
       "    <tr>\n",
       "      <th>4</th>\n",
       "      <td>10252</td>\n",
       "      <td>132.1000</td>\n",
       "      <td>3597.9000</td>\n",
       "    </tr>\n",
       "    <tr>\n",
       "      <th>...</th>\n",
       "      <td>...</td>\n",
       "      <td>...</td>\n",
       "      <td>...</td>\n",
       "    </tr>\n",
       "    <tr>\n",
       "      <th>825</th>\n",
       "      <td>11073</td>\n",
       "      <td>0.0000</td>\n",
       "      <td>300.0000</td>\n",
       "    </tr>\n",
       "    <tr>\n",
       "      <th>826</th>\n",
       "      <td>11074</td>\n",
       "      <td>12.2150</td>\n",
       "      <td>232.0850</td>\n",
       "    </tr>\n",
       "    <tr>\n",
       "      <th>827</th>\n",
       "      <td>11075</td>\n",
       "      <td>87.9000</td>\n",
       "      <td>498.1000</td>\n",
       "    </tr>\n",
       "    <tr>\n",
       "      <th>828</th>\n",
       "      <td>11076</td>\n",
       "      <td>264.2500</td>\n",
       "      <td>792.7500</td>\n",
       "    </tr>\n",
       "    <tr>\n",
       "      <th>829</th>\n",
       "      <td>11077</td>\n",
       "      <td>118.8795</td>\n",
       "      <td>1255.7205</td>\n",
       "    </tr>\n",
       "  </tbody>\n",
       "</table>\n",
       "<p>830 rows × 3 columns</p>\n",
       "</div>"
      ],
      "text/plain": [
       "     OrderID  Discount_Fact    Revenue\n",
       "0      10248         0.0000   440.0000\n",
       "1      10249         0.0000  1863.4000\n",
       "2      10250       260.4000  1552.6000\n",
       "3      10251        16.7400   654.0600\n",
       "4      10252       132.1000  3597.9000\n",
       "..       ...            ...        ...\n",
       "825    11073         0.0000   300.0000\n",
       "826    11074        12.2150   232.0850\n",
       "827    11075        87.9000   498.1000\n",
       "828    11076       264.2500   792.7500\n",
       "829    11077       118.8795  1255.7205\n",
       "\n",
       "[830 rows x 3 columns]"
      ]
     },
     "execution_count": 21,
     "metadata": {},
     "output_type": "execute_result"
    }
   ],
   "source": [
    "df_od2"
   ]
  },
  {
   "cell_type": "code",
   "execution_count": 25,
   "id": "1983595a",
   "metadata": {},
   "outputs": [],
   "source": [
    "# Бины с чистой выручкой\n",
    "df_od2['bins'] = pd.cut(df_od2['Revenue'], 5)"
   ]
  },
  {
   "cell_type": "code",
   "execution_count": 26,
   "id": "1d367e4b",
   "metadata": {},
   "outputs": [
    {
     "data": {
      "text/plain": [
       "bins\n",
       "(-3.875, 3287.5]      750\n",
       "(3287.5, 6562.5]       60\n",
       "(6562.5, 9837.5]        9\n",
       "(9837.5, 13112.5]       9\n",
       "(13112.5, 16387.5]      2\n",
       "Name: OrderID, dtype: int64"
      ]
     },
     "execution_count": 26,
     "metadata": {},
     "output_type": "execute_result"
    }
   ],
   "source": [
    "# Кол-во заказов \n",
    "df_od2.groupby('bins').OrderID.count()"
   ]
  },
  {
   "cell_type": "markdown",
   "id": "52f968e2",
   "metadata": {},
   "source": [
    "Посчитайте для каждого заказа чистую выручку. Затем с помощью метода .qcut() разбейте столбец с чистой выручкой на 5 бинов. Добавьте столбец с бинами в датафрейм. Далее в разрезе бинов посчитайте количество заказов. Выберите диапазон первого бина."
   ]
  },
  {
   "cell_type": "code",
   "execution_count": 28,
   "id": "1ed06b23",
   "metadata": {},
   "outputs": [],
   "source": [
    "df_od2['bins'] = pd.qcut(df_od2['Revenue'], 5)"
   ]
  },
  {
   "cell_type": "code",
   "execution_count": 29,
   "id": "056b9427",
   "metadata": {},
   "outputs": [
    {
     "data": {
      "text/plain": [
       "bins\n",
       "(12.499, 365.432]      166\n",
       "(365.432, 721.86]      166\n",
       "(721.86, 1335.78]      166\n",
       "(1335.78, 2122.976]    166\n",
       "(2122.976, 16387.5]    166\n",
       "Name: OrderID, dtype: int64"
      ]
     },
     "execution_count": 29,
     "metadata": {},
     "output_type": "execute_result"
    }
   ],
   "source": [
    "# Диапазоны по кол-ву заказов\n",
    "df_od2.groupby('bins').OrderID.count()"
   ]
  }
 ],
 "metadata": {
  "kernelspec": {
   "display_name": "Python 3 (ipykernel)",
   "language": "python",
   "name": "python3"
  },
  "language_info": {
   "codemirror_mode": {
    "name": "ipython",
    "version": 3
   },
   "file_extension": ".py",
   "mimetype": "text/x-python",
   "name": "python",
   "nbconvert_exporter": "python",
   "pygments_lexer": "ipython3",
   "version": "3.11.5"
  }
 },
 "nbformat": 4,
 "nbformat_minor": 5
}
