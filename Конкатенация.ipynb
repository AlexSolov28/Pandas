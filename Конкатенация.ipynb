{
 "cells": [
  {
   "cell_type": "markdown",
   "id": "ba429e12",
   "metadata": {},
   "source": [
    "## Анализ нескольких связанных датафреймов"
   ]
  },
  {
   "cell_type": "code",
   "execution_count": 2,
   "id": "d446d6a5",
   "metadata": {},
   "outputs": [],
   "source": [
    "import pandas as pd"
   ]
  },
  {
   "cell_type": "code",
   "execution_count": 3,
   "id": "d0192f15",
   "metadata": {},
   "outputs": [],
   "source": [
    "df_p = pd.read_csv('C:/Users/Пользователь/Desktop/Python/Pandas_ данные для курса/Products.csv', sep = ';')\n",
    "df_c = pd.read_csv('C:/Users/Пользователь/Desktop/Python/Pandas_ данные для курса/Customers.csv', sep = ';')\n",
    "df_o = pd.read_csv('C:/Users/Пользователь/Desktop/Python/Pandas_ данные для курса/Orders.csv', sep = ';')\n",
    "df_od = pd.read_csv('C:/Users/Пользователь/Desktop/Python/Pandas_ данные для курса/Order_details.csv', sep = ';')\n",
    "df_e = pd.read_excel('C:/Users/Пользователь/Desktop/Python/Pandas_ данные для курса/Employees.xlsx')"
   ]
  },
  {
   "cell_type": "code",
   "execution_count": 4,
   "id": "e9073c55",
   "metadata": {},
   "outputs": [
    {
     "data": {
      "text/html": [
       "<div>\n",
       "<style scoped>\n",
       "    .dataframe tbody tr th:only-of-type {\n",
       "        vertical-align: middle;\n",
       "    }\n",
       "\n",
       "    .dataframe tbody tr th {\n",
       "        vertical-align: top;\n",
       "    }\n",
       "\n",
       "    .dataframe thead th {\n",
       "        text-align: right;\n",
       "    }\n",
       "</style>\n",
       "<table border=\"1\" class=\"dataframe\">\n",
       "  <thead>\n",
       "    <tr style=\"text-align: right;\">\n",
       "      <th></th>\n",
       "      <th>EmployeeID</th>\n",
       "      <th>FirstName</th>\n",
       "      <th>LastName</th>\n",
       "      <th>Title</th>\n",
       "      <th>TitleOfCourtesy</th>\n",
       "      <th>BirthDate</th>\n",
       "      <th>HireDate</th>\n",
       "      <th>Address</th>\n",
       "      <th>HomePhone</th>\n",
       "    </tr>\n",
       "  </thead>\n",
       "  <tbody>\n",
       "    <tr>\n",
       "      <th>0</th>\n",
       "      <td>1</td>\n",
       "      <td>Nancy</td>\n",
       "      <td>Davolio</td>\n",
       "      <td>Sales Representative</td>\n",
       "      <td>Ms.</td>\n",
       "      <td>1948-12-08 00:00:00.000</td>\n",
       "      <td>1992-05-01 00:00:00.000</td>\n",
       "      <td>507 - 20th Ave. E.  Apt. 2A</td>\n",
       "      <td>(206) 555-9857</td>\n",
       "    </tr>\n",
       "    <tr>\n",
       "      <th>1</th>\n",
       "      <td>2</td>\n",
       "      <td>Andrew</td>\n",
       "      <td>Fuller</td>\n",
       "      <td>Vice President, Sales</td>\n",
       "      <td>Dr.</td>\n",
       "      <td>1952-02-19 00:00:00.000</td>\n",
       "      <td>1992-08-14 00:00:00.000</td>\n",
       "      <td>908 W. Capital Way</td>\n",
       "      <td>(206) 555-9482</td>\n",
       "    </tr>\n",
       "    <tr>\n",
       "      <th>2</th>\n",
       "      <td>3</td>\n",
       "      <td>Janet</td>\n",
       "      <td>Leverling</td>\n",
       "      <td>Sales Representative</td>\n",
       "      <td>Ms.</td>\n",
       "      <td>1963-08-30 00:00:00.000</td>\n",
       "      <td>1992-04-01 00:00:00.000</td>\n",
       "      <td>722 Moss Bay Blvd.</td>\n",
       "      <td>(206) 555-3412</td>\n",
       "    </tr>\n",
       "    <tr>\n",
       "      <th>3</th>\n",
       "      <td>4</td>\n",
       "      <td>Margaret</td>\n",
       "      <td>Peacock</td>\n",
       "      <td>Sales Representative</td>\n",
       "      <td>Mrs.</td>\n",
       "      <td>1937-09-19 00:00:00.000</td>\n",
       "      <td>1993-05-03 00:00:00.000</td>\n",
       "      <td>4110 Old Redmond Rd.</td>\n",
       "      <td>(206) 555-8122</td>\n",
       "    </tr>\n",
       "    <tr>\n",
       "      <th>4</th>\n",
       "      <td>5</td>\n",
       "      <td>Steven</td>\n",
       "      <td>Buchanan</td>\n",
       "      <td>Sales Manager</td>\n",
       "      <td>Mr.</td>\n",
       "      <td>1955-03-04 00:00:00.000</td>\n",
       "      <td>1993-10-17 00:00:00.000</td>\n",
       "      <td>14 Garrett Hill</td>\n",
       "      <td>(71) 555-4848</td>\n",
       "    </tr>\n",
       "  </tbody>\n",
       "</table>\n",
       "</div>"
      ],
      "text/plain": [
       "   EmployeeID FirstName   LastName                  Title TitleOfCourtesy  \\\n",
       "0           1     Nancy    Davolio   Sales Representative             Ms.   \n",
       "1           2    Andrew     Fuller  Vice President, Sales             Dr.   \n",
       "2           3     Janet  Leverling   Sales Representative             Ms.   \n",
       "3           4  Margaret    Peacock   Sales Representative            Mrs.   \n",
       "4           5    Steven   Buchanan          Sales Manager             Mr.   \n",
       "\n",
       "                 BirthDate                 HireDate  \\\n",
       "0  1948-12-08 00:00:00.000  1992-05-01 00:00:00.000   \n",
       "1  1952-02-19 00:00:00.000  1992-08-14 00:00:00.000   \n",
       "2  1963-08-30 00:00:00.000  1992-04-01 00:00:00.000   \n",
       "3  1937-09-19 00:00:00.000  1993-05-03 00:00:00.000   \n",
       "4  1955-03-04 00:00:00.000  1993-10-17 00:00:00.000   \n",
       "\n",
       "                       Address       HomePhone  \n",
       "0  507 - 20th Ave. E.  Apt. 2A  (206) 555-9857  \n",
       "1           908 W. Capital Way  (206) 555-9482  \n",
       "2           722 Moss Bay Blvd.  (206) 555-3412  \n",
       "3         4110 Old Redmond Rd.  (206) 555-8122  \n",
       "4              14 Garrett Hill   (71) 555-4848  "
      ]
     },
     "execution_count": 4,
     "metadata": {},
     "output_type": "execute_result"
    }
   ],
   "source": [
    "df_e.head()"
   ]
  },
  {
   "cell_type": "code",
   "execution_count": 5,
   "id": "c0c26e25",
   "metadata": {},
   "outputs": [
    {
     "data": {
      "text/html": [
       "<div>\n",
       "<style scoped>\n",
       "    .dataframe tbody tr th:only-of-type {\n",
       "        vertical-align: middle;\n",
       "    }\n",
       "\n",
       "    .dataframe tbody tr th {\n",
       "        vertical-align: top;\n",
       "    }\n",
       "\n",
       "    .dataframe thead th {\n",
       "        text-align: right;\n",
       "    }\n",
       "</style>\n",
       "<table border=\"1\" class=\"dataframe\">\n",
       "  <thead>\n",
       "    <tr style=\"text-align: right;\">\n",
       "      <th></th>\n",
       "      <th>CustomerID</th>\n",
       "      <th>ContactName</th>\n",
       "      <th>ContactTitle</th>\n",
       "      <th>Phone</th>\n",
       "      <th>Address</th>\n",
       "    </tr>\n",
       "  </thead>\n",
       "  <tbody>\n",
       "    <tr>\n",
       "      <th>0</th>\n",
       "      <td>ALFKI</td>\n",
       "      <td>Maria Anders</td>\n",
       "      <td>Sales Representative</td>\n",
       "      <td>030-0074321</td>\n",
       "      <td>Obere Str. 57</td>\n",
       "    </tr>\n",
       "    <tr>\n",
       "      <th>1</th>\n",
       "      <td>ANATR</td>\n",
       "      <td>Ana Trujillo</td>\n",
       "      <td>Owner</td>\n",
       "      <td>(5) 555-4729</td>\n",
       "      <td>Avda. de la Constitucion 2222</td>\n",
       "    </tr>\n",
       "    <tr>\n",
       "      <th>2</th>\n",
       "      <td>ANTON</td>\n",
       "      <td>Antonio Moreno</td>\n",
       "      <td>Owner</td>\n",
       "      <td>(5) 555-3932</td>\n",
       "      <td>Mataderos  2312</td>\n",
       "    </tr>\n",
       "    <tr>\n",
       "      <th>3</th>\n",
       "      <td>AROUT</td>\n",
       "      <td>Thomas Hardy</td>\n",
       "      <td>Sales Representative</td>\n",
       "      <td>(171) 555-7788</td>\n",
       "      <td>120 Hanover Sq.</td>\n",
       "    </tr>\n",
       "    <tr>\n",
       "      <th>4</th>\n",
       "      <td>BERGS</td>\n",
       "      <td>Christina Berglund</td>\n",
       "      <td>Order Administrator</td>\n",
       "      <td>0921-12 34 65</td>\n",
       "      <td>Berguvsv?gen  8</td>\n",
       "    </tr>\n",
       "  </tbody>\n",
       "</table>\n",
       "</div>"
      ],
      "text/plain": [
       "  CustomerID         ContactName          ContactTitle           Phone  \\\n",
       "0      ALFKI        Maria Anders  Sales Representative     030-0074321   \n",
       "1      ANATR        Ana Trujillo                 Owner    (5) 555-4729   \n",
       "2      ANTON      Antonio Moreno                 Owner    (5) 555-3932   \n",
       "3      AROUT        Thomas Hardy  Sales Representative  (171) 555-7788   \n",
       "4      BERGS  Christina Berglund   Order Administrator   0921-12 34 65   \n",
       "\n",
       "                         Address  \n",
       "0                  Obere Str. 57  \n",
       "1  Avda. de la Constitucion 2222  \n",
       "2                Mataderos  2312  \n",
       "3                120 Hanover Sq.  \n",
       "4                Berguvsv?gen  8  "
      ]
     },
     "execution_count": 5,
     "metadata": {},
     "output_type": "execute_result"
    }
   ],
   "source": [
    "df_c.head()"
   ]
  },
  {
   "cell_type": "markdown",
   "id": "54a6677b",
   "metadata": {},
   "source": [
    "Объединить должности из разных таблиц в один список"
   ]
  },
  {
   "cell_type": "code",
   "execution_count": 6,
   "id": "c8e5189b",
   "metadata": {},
   "outputs": [
    {
     "data": {
      "text/plain": [
       "0        Sales Representative\n",
       "1       Vice President, Sales\n",
       "2        Sales Representative\n",
       "3        Sales Representative\n",
       "4               Sales Manager\n",
       "5        Sales Representative\n",
       "6        Sales Representative\n",
       "7    Inside Sales Coordinator\n",
       "8        Sales Representative\n",
       "Name: Title, dtype: object"
      ]
     },
     "execution_count": 6,
     "metadata": {},
     "output_type": "execute_result"
    }
   ],
   "source": [
    "df_e['Title']"
   ]
  },
  {
   "cell_type": "code",
   "execution_count": 11,
   "id": "c4d727fc",
   "metadata": {},
   "outputs": [],
   "source": [
    "# Список в датафрейм\n",
    "a = pd.DataFrame({'Title':df_e['Title']})"
   ]
  },
  {
   "cell_type": "code",
   "execution_count": 12,
   "id": "c3abae03",
   "metadata": {},
   "outputs": [
    {
     "data": {
      "text/plain": [
       "0          Sales Representative\n",
       "1                         Owner\n",
       "2                         Owner\n",
       "3          Sales Representative\n",
       "4           Order Administrator\n",
       "                ...            \n",
       "86           Accounting Manager\n",
       "87                Sales Manager\n",
       "88                        Owner\n",
       "89    Owner/Marketing Assistant\n",
       "90                        Owner\n",
       "Name: ContactTitle, Length: 91, dtype: object"
      ]
     },
     "execution_count": 12,
     "metadata": {},
     "output_type": "execute_result"
    }
   ],
   "source": [
    "df_c['ContactTitle']"
   ]
  },
  {
   "cell_type": "code",
   "execution_count": 15,
   "id": "f40d8fef",
   "metadata": {},
   "outputs": [],
   "source": [
    "# Список в датафрейм\n",
    "b = pd.DataFrame({'Title':df_c['ContactTitle']})"
   ]
  },
  {
   "cell_type": "code",
   "execution_count": 21,
   "id": "1819ebd4",
   "metadata": {},
   "outputs": [],
   "source": [
    "# Объединим два списка\n",
    "c = pd.concat([a,b])"
   ]
  },
  {
   "cell_type": "code",
   "execution_count": 22,
   "id": "9fccef11",
   "metadata": {},
   "outputs": [
    {
     "data": {
      "text/html": [
       "<div>\n",
       "<style scoped>\n",
       "    .dataframe tbody tr th:only-of-type {\n",
       "        vertical-align: middle;\n",
       "    }\n",
       "\n",
       "    .dataframe tbody tr th {\n",
       "        vertical-align: top;\n",
       "    }\n",
       "\n",
       "    .dataframe thead th {\n",
       "        text-align: right;\n",
       "    }\n",
       "</style>\n",
       "<table border=\"1\" class=\"dataframe\">\n",
       "  <thead>\n",
       "    <tr style=\"text-align: right;\">\n",
       "      <th></th>\n",
       "      <th>Title</th>\n",
       "    </tr>\n",
       "  </thead>\n",
       "  <tbody>\n",
       "    <tr>\n",
       "      <th>0</th>\n",
       "      <td>Sales Representative</td>\n",
       "    </tr>\n",
       "    <tr>\n",
       "      <th>1</th>\n",
       "      <td>Vice President, Sales</td>\n",
       "    </tr>\n",
       "    <tr>\n",
       "      <th>2</th>\n",
       "      <td>Sales Representative</td>\n",
       "    </tr>\n",
       "    <tr>\n",
       "      <th>3</th>\n",
       "      <td>Sales Representative</td>\n",
       "    </tr>\n",
       "    <tr>\n",
       "      <th>4</th>\n",
       "      <td>Sales Manager</td>\n",
       "    </tr>\n",
       "    <tr>\n",
       "      <th>...</th>\n",
       "      <td>...</td>\n",
       "    </tr>\n",
       "    <tr>\n",
       "      <th>86</th>\n",
       "      <td>Accounting Manager</td>\n",
       "    </tr>\n",
       "    <tr>\n",
       "      <th>87</th>\n",
       "      <td>Sales Manager</td>\n",
       "    </tr>\n",
       "    <tr>\n",
       "      <th>88</th>\n",
       "      <td>Owner</td>\n",
       "    </tr>\n",
       "    <tr>\n",
       "      <th>89</th>\n",
       "      <td>Owner/Marketing Assistant</td>\n",
       "    </tr>\n",
       "    <tr>\n",
       "      <th>90</th>\n",
       "      <td>Owner</td>\n",
       "    </tr>\n",
       "  </tbody>\n",
       "</table>\n",
       "<p>100 rows × 1 columns</p>\n",
       "</div>"
      ],
      "text/plain": [
       "                        Title\n",
       "0        Sales Representative\n",
       "1       Vice President, Sales\n",
       "2        Sales Representative\n",
       "3        Sales Representative\n",
       "4               Sales Manager\n",
       "..                        ...\n",
       "86         Accounting Manager\n",
       "87              Sales Manager\n",
       "88                      Owner\n",
       "89  Owner/Marketing Assistant\n",
       "90                      Owner\n",
       "\n",
       "[100 rows x 1 columns]"
      ]
     },
     "execution_count": 22,
     "metadata": {},
     "output_type": "execute_result"
    }
   ],
   "source": [
    "c"
   ]
  },
  {
   "cell_type": "code",
   "execution_count": 23,
   "id": "4513d18c",
   "metadata": {},
   "outputs": [
    {
     "data": {
      "text/plain": [
       "0          Sales Representative\n",
       "1         Vice President, Sales\n",
       "2          Sales Representative\n",
       "3          Sales Representative\n",
       "4                 Sales Manager\n",
       "                ...            \n",
       "86           Accounting Manager\n",
       "87                Sales Manager\n",
       "88                        Owner\n",
       "89    Owner/Marketing Assistant\n",
       "90                        Owner\n",
       "Length: 100, dtype: object"
      ]
     },
     "execution_count": 23,
     "metadata": {},
     "output_type": "execute_result"
    }
   ],
   "source": [
    "# Серия\n",
    "pd.concat([df_e['Title'],df_c['ContactTitle']])"
   ]
  },
  {
   "cell_type": "code",
   "execution_count": 27,
   "id": "41dc69e9",
   "metadata": {},
   "outputs": [],
   "source": [
    "# Датафрейм\n",
    "df2 = pd.DataFrame({'Title':pd.concat([df_e['Title'],df_c['ContactTitle']])})"
   ]
  },
  {
   "cell_type": "code",
   "execution_count": 29,
   "id": "57987be5",
   "metadata": {},
   "outputs": [
    {
     "data": {
      "text/html": [
       "<div>\n",
       "<style scoped>\n",
       "    .dataframe tbody tr th:only-of-type {\n",
       "        vertical-align: middle;\n",
       "    }\n",
       "\n",
       "    .dataframe tbody tr th {\n",
       "        vertical-align: top;\n",
       "    }\n",
       "\n",
       "    .dataframe thead th {\n",
       "        text-align: right;\n",
       "    }\n",
       "</style>\n",
       "<table border=\"1\" class=\"dataframe\">\n",
       "  <thead>\n",
       "    <tr style=\"text-align: right;\">\n",
       "      <th></th>\n",
       "      <th>Title</th>\n",
       "    </tr>\n",
       "  </thead>\n",
       "  <tbody>\n",
       "    <tr>\n",
       "      <th>0</th>\n",
       "      <td>Sales Representative</td>\n",
       "    </tr>\n",
       "    <tr>\n",
       "      <th>1</th>\n",
       "      <td>Vice President, Sales</td>\n",
       "    </tr>\n",
       "    <tr>\n",
       "      <th>2</th>\n",
       "      <td>Sales Representative</td>\n",
       "    </tr>\n",
       "    <tr>\n",
       "      <th>3</th>\n",
       "      <td>Sales Representative</td>\n",
       "    </tr>\n",
       "    <tr>\n",
       "      <th>4</th>\n",
       "      <td>Sales Manager</td>\n",
       "    </tr>\n",
       "    <tr>\n",
       "      <th>...</th>\n",
       "      <td>...</td>\n",
       "    </tr>\n",
       "    <tr>\n",
       "      <th>86</th>\n",
       "      <td>Accounting Manager</td>\n",
       "    </tr>\n",
       "    <tr>\n",
       "      <th>87</th>\n",
       "      <td>Sales Manager</td>\n",
       "    </tr>\n",
       "    <tr>\n",
       "      <th>88</th>\n",
       "      <td>Owner</td>\n",
       "    </tr>\n",
       "    <tr>\n",
       "      <th>89</th>\n",
       "      <td>Owner/Marketing Assistant</td>\n",
       "    </tr>\n",
       "    <tr>\n",
       "      <th>90</th>\n",
       "      <td>Owner</td>\n",
       "    </tr>\n",
       "  </tbody>\n",
       "</table>\n",
       "<p>100 rows × 1 columns</p>\n",
       "</div>"
      ],
      "text/plain": [
       "                        Title\n",
       "0        Sales Representative\n",
       "1       Vice President, Sales\n",
       "2        Sales Representative\n",
       "3        Sales Representative\n",
       "4               Sales Manager\n",
       "..                        ...\n",
       "86         Accounting Manager\n",
       "87              Sales Manager\n",
       "88                      Owner\n",
       "89  Owner/Marketing Assistant\n",
       "90                      Owner\n",
       "\n",
       "[100 rows x 1 columns]"
      ]
     },
     "execution_count": 29,
     "metadata": {},
     "output_type": "execute_result"
    }
   ],
   "source": [
    "df2"
   ]
  },
  {
   "cell_type": "markdown",
   "id": "44e60e1f",
   "metadata": {},
   "source": [
    "C помощью метода .concat() объедините должности сотрудников и должности клиентов. Сколько человек состоят в должности Sales Representative?"
   ]
  },
  {
   "cell_type": "code",
   "execution_count": 30,
   "id": "914c9098",
   "metadata": {},
   "outputs": [
    {
     "data": {
      "text/plain": [
       "Title    23\n",
       "dtype: int64"
      ]
     },
     "execution_count": 30,
     "metadata": {},
     "output_type": "execute_result"
    }
   ],
   "source": [
    "# Первый вариант решения \n",
    "df2[df2['Title'] == 'Sales Representative'].count()"
   ]
  },
  {
   "cell_type": "code",
   "execution_count": 31,
   "id": "d1eb7a79",
   "metadata": {},
   "outputs": [
    {
     "data": {
      "text/html": [
       "<div>\n",
       "<style scoped>\n",
       "    .dataframe tbody tr th:only-of-type {\n",
       "        vertical-align: middle;\n",
       "    }\n",
       "\n",
       "    .dataframe tbody tr th {\n",
       "        vertical-align: top;\n",
       "    }\n",
       "\n",
       "    .dataframe thead th {\n",
       "        text-align: right;\n",
       "    }\n",
       "</style>\n",
       "<table border=\"1\" class=\"dataframe\">\n",
       "  <thead>\n",
       "    <tr style=\"text-align: right;\">\n",
       "      <th></th>\n",
       "      <th>Title</th>\n",
       "      <th>count</th>\n",
       "    </tr>\n",
       "  </thead>\n",
       "  <tbody>\n",
       "    <tr>\n",
       "      <th>0</th>\n",
       "      <td>Sales Representative</td>\n",
       "      <td>23</td>\n",
       "    </tr>\n",
       "    <tr>\n",
       "      <th>1</th>\n",
       "      <td>Owner</td>\n",
       "      <td>17</td>\n",
       "    </tr>\n",
       "    <tr>\n",
       "      <th>2</th>\n",
       "      <td>Marketing Manager</td>\n",
       "      <td>12</td>\n",
       "    </tr>\n",
       "    <tr>\n",
       "      <th>3</th>\n",
       "      <td>Sales Manager</td>\n",
       "      <td>12</td>\n",
       "    </tr>\n",
       "    <tr>\n",
       "      <th>4</th>\n",
       "      <td>Accounting Manager</td>\n",
       "      <td>10</td>\n",
       "    </tr>\n",
       "    <tr>\n",
       "      <th>5</th>\n",
       "      <td>Sales Associate</td>\n",
       "      <td>7</td>\n",
       "    </tr>\n",
       "    <tr>\n",
       "      <th>6</th>\n",
       "      <td>Marketing Assistant</td>\n",
       "      <td>6</td>\n",
       "    </tr>\n",
       "    <tr>\n",
       "      <th>7</th>\n",
       "      <td>Sales Agent</td>\n",
       "      <td>5</td>\n",
       "    </tr>\n",
       "    <tr>\n",
       "      <th>8</th>\n",
       "      <td>Assistant Sales Agent</td>\n",
       "      <td>2</td>\n",
       "    </tr>\n",
       "    <tr>\n",
       "      <th>9</th>\n",
       "      <td>Order Administrator</td>\n",
       "      <td>2</td>\n",
       "    </tr>\n",
       "    <tr>\n",
       "      <th>10</th>\n",
       "      <td>Assistant Sales Representative</td>\n",
       "      <td>1</td>\n",
       "    </tr>\n",
       "    <tr>\n",
       "      <th>11</th>\n",
       "      <td>Inside Sales Coordinator</td>\n",
       "      <td>1</td>\n",
       "    </tr>\n",
       "    <tr>\n",
       "      <th>12</th>\n",
       "      <td>Owner/Marketing Assistant</td>\n",
       "      <td>1</td>\n",
       "    </tr>\n",
       "    <tr>\n",
       "      <th>13</th>\n",
       "      <td>Vice President, Sales</td>\n",
       "      <td>1</td>\n",
       "    </tr>\n",
       "  </tbody>\n",
       "</table>\n",
       "</div>"
      ],
      "text/plain": [
       "                             Title  count\n",
       "0             Sales Representative     23\n",
       "1                            Owner     17\n",
       "2                Marketing Manager     12\n",
       "3                    Sales Manager     12\n",
       "4               Accounting Manager     10\n",
       "5                  Sales Associate      7\n",
       "6              Marketing Assistant      6\n",
       "7                      Sales Agent      5\n",
       "8            Assistant Sales Agent      2\n",
       "9              Order Administrator      2\n",
       "10  Assistant Sales Representative      1\n",
       "11        Inside Sales Coordinator      1\n",
       "12       Owner/Marketing Assistant      1\n",
       "13           Vice President, Sales      1"
      ]
     },
     "execution_count": 31,
     "metadata": {},
     "output_type": "execute_result"
    }
   ],
   "source": [
    "# Второй вариант решения\n",
    "c.value_counts().reset_index()"
   ]
  }
 ],
 "metadata": {
  "kernelspec": {
   "display_name": "Python 3 (ipykernel)",
   "language": "python",
   "name": "python3"
  },
  "language_info": {
   "codemirror_mode": {
    "name": "ipython",
    "version": 3
   },
   "file_extension": ".py",
   "mimetype": "text/x-python",
   "name": "python",
   "nbconvert_exporter": "python",
   "pygments_lexer": "ipython3",
   "version": "3.11.5"
  }
 },
 "nbformat": 4,
 "nbformat_minor": 5
}
